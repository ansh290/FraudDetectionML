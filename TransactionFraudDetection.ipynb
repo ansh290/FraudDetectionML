{
  "nbformat": 4,
  "nbformat_minor": 0,
  "metadata": {
    "colab": {
      "name": "TransactionFraudDetection",
      "version": "0.3.2",
      "views": {},
      "default_view": {},
      "provenance": [],
      "collapsed_sections": []
    },
    "kernelspec": {
      "name": "python3",
      "display_name": "Python 3"
    },
    "accelerator": "GPU"
  },
  "cells": [
    {
      "metadata": {
        "id": "f5trZor_vWf-",
        "colab_type": "code",
        "colab": {
          "autoexec": {
            "startup": false,
            "wait_interval": 0
          },
          "base_uri": "https://localhost:8080/",
          "height": 125
        },
        "outputId": "a5155749-a661-41f8-ae57-7a040b890ebf",
        "executionInfo": {
          "status": "ok",
          "timestamp": 1528256046378,
          "user_tz": 420,
          "elapsed": 10007,
          "user": {
            "displayName": "Rohit Sharma",
            "photoUrl": "//lh3.googleusercontent.com/-taVv3-ZuJe4/AAAAAAAAAAI/AAAAAAAAAC4/S0CoIAIUYyc/s50-c-k-no/photo.jpg",
            "userId": "112749994528256872390"
          }
        }
      },
      "cell_type": "code",
      "source": [
        "!pip install xlrd\n",
        "\n",
        "import os\n",
        "import tensorflow as tf\n",
        "import numpy as np\n",
        "import matplotlib.pyplot as plt\n",
        "import seaborn as sn\n",
        "import pandas as pd"
      ],
      "execution_count": 1,
      "outputs": [
        {
          "output_type": "stream",
          "text": [
            "Collecting xlrd\n",
            "\u001b[?25l  Downloading https://files.pythonhosted.org/packages/07/e6/e95c4eec6221bfd8528bcc4ea252a850bffcc4be88ebc367e23a1a84b0bb/xlrd-1.1.0-py2.py3-none-any.whl (108kB)\n",
            "\u001b[K    100% |████████████████████████████████| 112kB 4.4MB/s \n",
            "\u001b[?25hInstalling collected packages: xlrd\n",
            "Successfully installed xlrd-1.1.0\n"
          ],
          "name": "stdout"
        }
      ]
    },
    {
      "metadata": {
        "id": "8nVdhPOPv4iK",
        "colab_type": "code",
        "colab": {
          "autoexec": {
            "startup": false,
            "wait_interval": 0
          },
          "resources": {
            "http://localhost:8080/nbextensions/google.colab/files.js": {
              "data": "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",
              "ok": true,
              "headers": [
                [
                  "content-type",
                  "application/javascript"
                ]
              ],
              "status": 200,
              "status_text": ""
            }
          },
          "base_uri": "https://localhost:8080/",
          "height": 91
        },
        "outputId": "173f6597-2cb5-40b7-9c81-c784c112b2d4",
        "executionInfo": {
          "status": "ok",
          "timestamp": 1528256199124,
          "user_tz": 420,
          "elapsed": 152669,
          "user": {
            "displayName": "Rohit Sharma",
            "photoUrl": "//lh3.googleusercontent.com/-taVv3-ZuJe4/AAAAAAAAAAI/AAAAAAAAAC4/S0CoIAIUYyc/s50-c-k-no/photo.jpg",
            "userId": "112749994528256872390"
          }
        }
      },
      "cell_type": "code",
      "source": [
        "# upload file\n",
        "from google.colab import files\n",
        "uploaded = files.upload()\n",
        "for fn in uploaded.keys():\n",
        "  print('User uploaded file \"{name}\" with length {length} bytes'.format(\n",
        "         name=fn, length=len(uploaded[fn])))"
      ],
      "execution_count": 2,
      "outputs": [
        {
          "output_type": "display_data",
          "data": {
            "text/html": [
              "\n",
              "     <input type=\"file\" id=\"files-10eb05ac-47f3-4a52-a7fb-d2b09838a891\" name=\"files[]\" multiple disabled />\n",
              "     <output id=\"result-10eb05ac-47f3-4a52-a7fb-d2b09838a891\">\n",
              "      Upload widget is only available when the cell has been executed in the\n",
              "      current browser session. Please rerun this cell to enable.\n",
              "      </output>\n",
              "      <script src=\"/nbextensions/google.colab/files.js\"></script> "
            ],
            "text/plain": [
              "<IPython.core.display.HTML object>"
            ]
          },
          "metadata": {
            "tags": []
          }
        },
        {
          "output_type": "stream",
          "text": [
            "Saving Share Externally Sample Data Set.xlsx to Share Externally Sample Data Set.xlsx\n",
            "User uploaded file \"Share Externally Sample Data Set.xlsx\" with length 7892198 bytes\n"
          ],
          "name": "stdout"
        }
      ]
    },
    {
      "metadata": {
        "id": "70UdcBfGvoWB",
        "colab_type": "code",
        "colab": {
          "autoexec": {
            "startup": false,
            "wait_interval": 0
          },
          "base_uri": "https://localhost:8080/",
          "height": 402
        },
        "outputId": "584609f5-d2c3-4c55-8777-4fc7510acf88",
        "executionInfo": {
          "status": "ok",
          "timestamp": 1528256212979,
          "user_tz": 420,
          "elapsed": 13789,
          "user": {
            "displayName": "Rohit Sharma",
            "photoUrl": "//lh3.googleusercontent.com/-taVv3-ZuJe4/AAAAAAAAAAI/AAAAAAAAAC4/S0CoIAIUYyc/s50-c-k-no/photo.jpg",
            "userId": "112749994528256872390"
          }
        }
      },
      "cell_type": "code",
      "source": [
        "#Load dataset\n",
        "#datafile = os.path.join(fn)\n",
        "df = pd.read_excel(fn, header = 1)\n",
        "df.convert_objects(convert_numeric=True).dtypes\n",
        "df.head()"
      ],
      "execution_count": 3,
      "outputs": [
        {
          "output_type": "stream",
          "text": [
            "/usr/local/lib/python3.6/dist-packages/ipykernel_launcher.py:2: FutureWarning: convert_objects is deprecated.  To re-infer data dtypes for object columns, use DataFrame.infer_objects()\n",
            "For all other conversions use the data-type specific converters pd.to_datetime, pd.to_timedelta and pd.to_numeric.\n",
            "  \n"
          ],
          "name": "stderr"
        },
        {
          "output_type": "execute_result",
          "data": {
            "text/html": [
              "<div>\n",
              "<style scoped>\n",
              "    .dataframe tbody tr th:only-of-type {\n",
              "        vertical-align: middle;\n",
              "    }\n",
              "\n",
              "    .dataframe tbody tr th {\n",
              "        vertical-align: top;\n",
              "    }\n",
              "\n",
              "    .dataframe thead th {\n",
              "        text-align: right;\n",
              "    }\n",
              "</style>\n",
              "<table border=\"1\" class=\"dataframe\">\n",
              "  <thead>\n",
              "    <tr style=\"text-align: right;\">\n",
              "      <th></th>\n",
              "      <th>Customer ID</th>\n",
              "      <th>TransactionID</th>\n",
              "      <th>Column-1</th>\n",
              "      <th>Column-2</th>\n",
              "      <th>Column-3</th>\n",
              "      <th>Column-4</th>\n",
              "      <th>Column-5</th>\n",
              "      <th>Column-6</th>\n",
              "      <th>Column-7</th>\n",
              "      <th>Column-8</th>\n",
              "      <th>Column-9</th>\n",
              "      <th>Column-10</th>\n",
              "      <th>Column-11</th>\n",
              "      <th>Column-12</th>\n",
              "      <th>Column-13</th>\n",
              "      <th>Approved transactions</th>\n",
              "      <th>fraud_indicator</th>\n",
              "      <th>chargeback_indicator</th>\n",
              "    </tr>\n",
              "  </thead>\n",
              "  <tbody>\n",
              "    <tr>\n",
              "      <th>0</th>\n",
              "      <td>ID000001</td>\n",
              "      <td>20170809152802M189CG2971240</td>\n",
              "      <td>XXX</td>\n",
              "      <td>AAA</td>\n",
              "      <td>10</td>\n",
              "      <td>NaN</td>\n",
              "      <td>3 years</td>\n",
              "      <td>10</td>\n",
              "      <td>10.0</td>\n",
              "      <td>NaN</td>\n",
              "      <td>3 years</td>\n",
              "      <td>0</td>\n",
              "      <td>NaN</td>\n",
              "      <td>Apple</td>\n",
              "      <td>iPhone7Plus</td>\n",
              "      <td>0</td>\n",
              "      <td>NaN</td>\n",
              "      <td>NaN</td>\n",
              "    </tr>\n",
              "    <tr>\n",
              "      <th>1</th>\n",
              "      <td>ID000002</td>\n",
              "      <td>20170818213114M189CG9136646</td>\n",
              "      <td>YYY</td>\n",
              "      <td>AAA</td>\n",
              "      <td>na</td>\n",
              "      <td>NaN</td>\n",
              "      <td>NaN</td>\n",
              "      <td>na</td>\n",
              "      <td>NaN</td>\n",
              "      <td>Apr-24-2015</td>\n",
              "      <td>na</td>\n",
              "      <td>na</td>\n",
              "      <td>NaN</td>\n",
              "      <td>NaN</td>\n",
              "      <td>NaN</td>\n",
              "      <td>0</td>\n",
              "      <td>NaN</td>\n",
              "      <td>NaN</td>\n",
              "    </tr>\n",
              "    <tr>\n",
              "      <th>2</th>\n",
              "      <td>ID000003</td>\n",
              "      <td>20170816002739X177CG8816137</td>\n",
              "      <td>ZZZ</td>\n",
              "      <td>AAA</td>\n",
              "      <td>10</td>\n",
              "      <td>10.0</td>\n",
              "      <td>3 years</td>\n",
              "      <td>10</td>\n",
              "      <td>10.0</td>\n",
              "      <td>NaN</td>\n",
              "      <td>3 years</td>\n",
              "      <td>na</td>\n",
              "      <td>NaN</td>\n",
              "      <td>Samsung</td>\n",
              "      <td>Galaxy S8+</td>\n",
              "      <td>0</td>\n",
              "      <td>NaN</td>\n",
              "      <td>NaN</td>\n",
              "    </tr>\n",
              "    <tr>\n",
              "      <th>3</th>\n",
              "      <td>ID000004</td>\n",
              "      <td>20170812013147X189CG9214661</td>\n",
              "      <td>UUU</td>\n",
              "      <td>AAA</td>\n",
              "      <td>10</td>\n",
              "      <td>10.0</td>\n",
              "      <td>1 year</td>\n",
              "      <td>10</td>\n",
              "      <td>NaN</td>\n",
              "      <td>Jun-30-2016</td>\n",
              "      <td>1 year</td>\n",
              "      <td>na</td>\n",
              "      <td>NaN</td>\n",
              "      <td>OBERTHUR TECHNOLOGIES</td>\n",
              "      <td>OBR LTEGSM REM 4FF CSIMV2</td>\n",
              "      <td>1</td>\n",
              "      <td>1.0</td>\n",
              "      <td>0.0</td>\n",
              "    </tr>\n",
              "    <tr>\n",
              "      <th>4</th>\n",
              "      <td>ID000004</td>\n",
              "      <td>20170813032904M185CG7230870</td>\n",
              "      <td>UUU</td>\n",
              "      <td>AAA</td>\n",
              "      <td>10</td>\n",
              "      <td>10.0</td>\n",
              "      <td>1 year</td>\n",
              "      <td>10</td>\n",
              "      <td>NaN</td>\n",
              "      <td>Jun-30-2016</td>\n",
              "      <td>1 year</td>\n",
              "      <td>na</td>\n",
              "      <td>NaN</td>\n",
              "      <td>OBERTHUR TECHNOLOGIES</td>\n",
              "      <td>OBR LTEGSM REM 4FF CSIMV2</td>\n",
              "      <td>0</td>\n",
              "      <td>NaN</td>\n",
              "      <td>NaN</td>\n",
              "    </tr>\n",
              "  </tbody>\n",
              "</table>\n",
              "</div>"
            ],
            "text/plain": [
              "  Customer ID                TransactionID Column-1 Column-2 Column-3  \\\n",
              "0    ID000001  20170809152802M189CG2971240      XXX      AAA       10   \n",
              "1    ID000002  20170818213114M189CG9136646      YYY      AAA       na   \n",
              "2    ID000003  20170816002739X177CG8816137      ZZZ      AAA       10   \n",
              "3    ID000004  20170812013147X189CG9214661      UUU      AAA       10   \n",
              "4    ID000004  20170813032904M185CG7230870      UUU      AAA       10   \n",
              "\n",
              "   Column-4 Column-5 Column-6  Column-7     Column-8 Column-9 Column-10  \\\n",
              "0       NaN  3 years       10      10.0          NaN  3 years         0   \n",
              "1       NaN      NaN       na       NaN  Apr-24-2015       na        na   \n",
              "2      10.0  3 years       10      10.0          NaN  3 years        na   \n",
              "3      10.0   1 year       10       NaN  Jun-30-2016   1 year        na   \n",
              "4      10.0   1 year       10       NaN  Jun-30-2016   1 year        na   \n",
              "\n",
              "   Column-11              Column-12                  Column-13  \\\n",
              "0        NaN                  Apple                iPhone7Plus   \n",
              "1        NaN                    NaN                        NaN   \n",
              "2        NaN                Samsung                 Galaxy S8+   \n",
              "3        NaN  OBERTHUR TECHNOLOGIES  OBR LTEGSM REM 4FF CSIMV2   \n",
              "4        NaN  OBERTHUR TECHNOLOGIES  OBR LTEGSM REM 4FF CSIMV2   \n",
              "\n",
              "   Approved transactions  fraud_indicator  chargeback_indicator  \n",
              "0                      0              NaN                   NaN  \n",
              "1                      0              NaN                   NaN  \n",
              "2                      0              NaN                   NaN  \n",
              "3                      1              1.0                   0.0  \n",
              "4                      0              NaN                   NaN  "
            ]
          },
          "metadata": {
            "tags": []
          },
          "execution_count": 3
        }
      ]
    },
    {
      "metadata": {
        "id": "nZqWgc3qn2jp",
        "colab_type": "code",
        "colab": {
          "autoexec": {
            "startup": false,
            "wait_interval": 0
          },
          "base_uri": "https://localhost:8080/",
          "height": 284
        },
        "outputId": "9707e7a6-06a1-46b5-8567-45ba5dffec29",
        "executionInfo": {
          "status": "ok",
          "timestamp": 1528256213444,
          "user_tz": 420,
          "elapsed": 419,
          "user": {
            "displayName": "Rohit Sharma",
            "photoUrl": "//lh3.googleusercontent.com/-taVv3-ZuJe4/AAAAAAAAAAI/AAAAAAAAAC4/S0CoIAIUYyc/s50-c-k-no/photo.jpg",
            "userId": "112749994528256872390"
          }
        }
      },
      "cell_type": "code",
      "source": [
        "df.columns = df.columns.str.strip().str.replace(' ', '_').str.replace('-', '_').str.replace('(', '').str.replace(')', '')\n",
        "\n",
        "df.fraud_indicator        = df.fraud_indicator.astype(float); #.fillna(0.0)\n",
        "df.chargeback_indicator   = df.chargeback_indicator.astype(float); #.fillna(0.0); \n",
        "\n",
        "df.Column_1  = df.Column_1.astype('category')\n",
        "df.Column_2  = df.Column_2.astype('category')\n",
        "df.Column_3  = df.Column_3.astype('category')\n",
        "df.Column_4  = df.Column_4.astype('category')\n",
        "df.Column_5  = df.Column_5.astype('category')\n",
        "df.Column_6  = df.Column_6.astype('category')\n",
        "df.Column_7  = df.Column_7.astype('category')\n",
        "df.Column_8  = df.Column_8.astype('category')\n",
        "df.Column_9  = df.Column_9.astype('category')\n",
        "df.Column_10 = df.Column_10.astype('category')\n",
        "df.Column_11 = df.Column_11.astype('category')\n",
        "df.Column_12 = df.Column_12.astype('category')\n",
        "df.Column_13 = df.Column_13.astype('category')\n",
        "\n",
        "\n",
        "# Generates descriptive statistics that summarize the central tendency,\n",
        "# dispersion and shape of a dataset’s distribution\n",
        "df.describe()"
      ],
      "execution_count": 4,
      "outputs": [
        {
          "output_type": "execute_result",
          "data": {
            "text/html": [
              "<div>\n",
              "<style scoped>\n",
              "    .dataframe tbody tr th:only-of-type {\n",
              "        vertical-align: middle;\n",
              "    }\n",
              "\n",
              "    .dataframe tbody tr th {\n",
              "        vertical-align: top;\n",
              "    }\n",
              "\n",
              "    .dataframe thead th {\n",
              "        text-align: right;\n",
              "    }\n",
              "</style>\n",
              "<table border=\"1\" class=\"dataframe\">\n",
              "  <thead>\n",
              "    <tr style=\"text-align: right;\">\n",
              "      <th></th>\n",
              "      <th>Approved_transactions</th>\n",
              "      <th>fraud_indicator</th>\n",
              "      <th>chargeback_indicator</th>\n",
              "    </tr>\n",
              "  </thead>\n",
              "  <tbody>\n",
              "    <tr>\n",
              "      <th>count</th>\n",
              "      <td>88596.000000</td>\n",
              "      <td>2739.0</td>\n",
              "      <td>2739.000000</td>\n",
              "    </tr>\n",
              "    <tr>\n",
              "      <th>mean</th>\n",
              "      <td>0.458136</td>\n",
              "      <td>1.0</td>\n",
              "      <td>0.363271</td>\n",
              "    </tr>\n",
              "    <tr>\n",
              "      <th>std</th>\n",
              "      <td>0.498247</td>\n",
              "      <td>0.0</td>\n",
              "      <td>0.481030</td>\n",
              "    </tr>\n",
              "    <tr>\n",
              "      <th>min</th>\n",
              "      <td>0.000000</td>\n",
              "      <td>1.0</td>\n",
              "      <td>0.000000</td>\n",
              "    </tr>\n",
              "    <tr>\n",
              "      <th>25%</th>\n",
              "      <td>0.000000</td>\n",
              "      <td>1.0</td>\n",
              "      <td>0.000000</td>\n",
              "    </tr>\n",
              "    <tr>\n",
              "      <th>50%</th>\n",
              "      <td>0.000000</td>\n",
              "      <td>1.0</td>\n",
              "      <td>0.000000</td>\n",
              "    </tr>\n",
              "    <tr>\n",
              "      <th>75%</th>\n",
              "      <td>1.000000</td>\n",
              "      <td>1.0</td>\n",
              "      <td>1.000000</td>\n",
              "    </tr>\n",
              "    <tr>\n",
              "      <th>max</th>\n",
              "      <td>1.000000</td>\n",
              "      <td>1.0</td>\n",
              "      <td>1.000000</td>\n",
              "    </tr>\n",
              "  </tbody>\n",
              "</table>\n",
              "</div>"
            ],
            "text/plain": [
              "       Approved_transactions  fraud_indicator  chargeback_indicator\n",
              "count           88596.000000           2739.0           2739.000000\n",
              "mean                0.458136              1.0              0.363271\n",
              "std                 0.498247              0.0              0.481030\n",
              "min                 0.000000              1.0              0.000000\n",
              "25%                 0.000000              1.0              0.000000\n",
              "50%                 0.000000              1.0              0.000000\n",
              "75%                 1.000000              1.0              1.000000\n",
              "max                 1.000000              1.0              1.000000"
            ]
          },
          "metadata": {
            "tags": []
          },
          "execution_count": 4
        }
      ]
    },
    {
      "metadata": {
        "id": "DtoxFIME4Qck",
        "colab_type": "code",
        "colab": {
          "autoexec": {
            "startup": false,
            "wait_interval": 0
          },
          "base_uri": "https://localhost:8080/",
          "height": 831
        },
        "outputId": "395f48f2-fe9c-4242-cb95-e6780f520adf",
        "executionInfo": {
          "status": "ok",
          "timestamp": 1528256214183,
          "user_tz": 420,
          "elapsed": 646,
          "user": {
            "displayName": "Rohit Sharma",
            "photoUrl": "//lh3.googleusercontent.com/-taVv3-ZuJe4/AAAAAAAAAAI/AAAAAAAAAC4/S0CoIAIUYyc/s50-c-k-no/photo.jpg",
            "userId": "112749994528256872390"
          }
        }
      },
      "cell_type": "code",
      "source": [
        "\n",
        "fraud_count       = pd.value_counts(df['fraud_indicator'], sort = True).sort_index()\n",
        "chargeback_count  = pd.value_counts(df['chargeback_indicator'], sort = True).sort_index()\n",
        "\n",
        "fraud_count.plot(kind = 'bar', label='fraud', legend=False)\n",
        "\n",
        "print(fraud_count, \"\\n\", chargeback_count)\n",
        "\n",
        "# 3% ~ 2.35σ\n",
        "plt.title(\"Histogram\")\n",
        "plt.ylabel(\"Frequency\")\n",
        "plt.xlabel(\"Fraud Class\")\n",
        "plt.show()\n",
        "\n",
        "# 1% ~ 2.6 σ\n",
        "chargeback_count.plot(kind = 'bar', label='charge back', legend=False)\n",
        "plt.title(\"Histogram\")\n",
        "plt.ylabel(\"Frequency\")\n",
        "plt.xlabel(\"Chargeback Class\")\n",
        "plt.show()"
      ],
      "execution_count": 5,
      "outputs": [
        {
          "output_type": "stream",
          "text": [
            "1.0    2739\n",
            "Name: fraud_indicator, dtype: int64 \n",
            " 0.0    1744\n",
            "1.0     995\n",
            "Name: chargeback_indicator, dtype: int64\n"
          ],
          "name": "stdout"
        },
        {
          "output_type": "display_data",
          "data": {
            "image/png": "[encoded data removed]",
            "text/plain": [
              "<matplotlib.figure.Figure at 0x7f4d39c21b38>"
            ]
          },
          "metadata": {
            "tags": []
          }
        },
        {
          "output_type": "display_data",
          "data": {
            "image/png": "[encoded data removed]",
            "text/plain": [
              "<matplotlib.figure.Figure at 0x7f4d37292588>"
            ]
          },
          "metadata": {
            "tags": []
          }
        }
      ]
    },
    {
      "metadata": {
        "id": "jU4EF0jF4_cw",
        "colab_type": "code",
        "colab": {
          "autoexec": {
            "startup": false,
            "wait_interval": 0
          },
          "base_uri": "https://localhost:8080/",
          "height": 427
        },
        "outputId": "a1b64221-dd93-45b4-ca4c-ef99ecb02cc7",
        "executionInfo": {
          "status": "ok",
          "timestamp": 1528258670583,
          "user_tz": 420,
          "elapsed": 2329,
          "user": {
            "displayName": "Rohit Sharma",
            "photoUrl": "//lh3.googleusercontent.com/-taVv3-ZuJe4/AAAAAAAAAAI/AAAAAAAAAC4/S0CoIAIUYyc/s50-c-k-no/photo.jpg",
            "userId": "112749994528256872390"
          }
        }
      },
      "cell_type": "code",
      "source": [
        "df1  = df[['Column_1', 'Column_2', 'Column_3', 'Column_4', 'Column_5', 'Column_6', \n",
        "           'Column_7', 'Column_8',\t'Column_9',\t'Column_10',\t'Column_11', 'Column_12', \n",
        "           'Column_13', 'Approved_transactions',\t'fraud_indicator',\t'chargeback_indicator']]\n",
        "df1.Column_1 = df1.Column_1.cat.codes.astype('int64')\n",
        "df1.Column_2 = df1.Column_2.cat.codes.astype('int64')\n",
        "df1.Column_3 = df1.Column_3.cat.codes.astype('int64')\n",
        "df1.Column_4 = df1.Column_4.cat.codes.astype('int64')\n",
        "df1.Column_5 = df1.Column_5.cat.codes.astype('int64')\n",
        "df1.Column_6 = df1.Column_6.cat.codes.astype('int64')\n",
        "df1.Column_7 = df1.Column_7.cat.codes.astype('int64')\n",
        "df1.Column_8 = df1.Column_8.cat.codes.astype('int64')\n",
        "df1.Column_9 = df1.Column_9.cat.codes.astype('int64')\n",
        "df1.Column_10 = df1.Column_10.cat.codes.astype('int64')\n",
        "df1.Column_11 = df1.Column_11.cat.codes.astype('int64')\n",
        "df1.Column_12 = df1.Column_12.cat.codes.astype('int64')\n",
        "df1.Column_13 = df1.Column_13.cat.codes.astype('int64')\n",
        "\n",
        "\n",
        "dataset = tf.contrib.learn.extract_pandas_data(df1)\n",
        "np.random.shuffle(dataset)\n",
        "\n",
        "print('Total dataset :',  dataset.shape)\n",
        "\n",
        "pd.DataFrame(dataset).describe()"
      ],
      "execution_count": 62,
      "outputs": [
        {
          "output_type": "stream",
          "text": [
            "/usr/local/lib/python3.6/dist-packages/pandas/core/generic.py:3643: SettingWithCopyWarning: \n",
            "A value is trying to be set on a copy of a slice from a DataFrame.\n",
            "Try using .loc[row_indexer,col_indexer] = value instead\n",
            "\n",
            "See the caveats in the documentation: http://pandas.pydata.org/pandas-docs/stable/indexing.html#indexing-view-versus-copy\n",
            "  self[name] = value\n"
          ],
          "name": "stderr"
        },
        {
          "output_type": "stream",
          "text": [
            "Total dataset : (88596, 16)\n"
          ],
          "name": "stdout"
        },
        {
          "output_type": "execute_result",
          "data": {
            "text/html": [
              "<div>\n",
              "<style scoped>\n",
              "    .dataframe tbody tr th:only-of-type {\n",
              "        vertical-align: middle;\n",
              "    }\n",
              "\n",
              "    .dataframe tbody tr th {\n",
              "        vertical-align: top;\n",
              "    }\n",
              "\n",
              "    .dataframe thead th {\n",
              "        text-align: right;\n",
              "    }\n",
              "</style>\n",
              "<table border=\"1\" class=\"dataframe\">\n",
              "  <thead>\n",
              "    <tr style=\"text-align: right;\">\n",
              "      <th></th>\n",
              "      <th>0</th>\n",
              "      <th>1</th>\n",
              "      <th>2</th>\n",
              "      <th>3</th>\n",
              "      <th>4</th>\n",
              "      <th>5</th>\n",
              "      <th>6</th>\n",
              "      <th>7</th>\n",
              "      <th>8</th>\n",
              "      <th>9</th>\n",
              "      <th>10</th>\n",
              "      <th>11</th>\n",
              "      <th>12</th>\n",
              "      <th>13</th>\n",
              "      <th>14</th>\n",
              "      <th>15</th>\n",
              "    </tr>\n",
              "  </thead>\n",
              "  <tbody>\n",
              "    <tr>\n",
              "      <th>count</th>\n",
              "      <td>88596.000000</td>\n",
              "      <td>88596.000000</td>\n",
              "      <td>88596.000000</td>\n",
              "      <td>88596.000000</td>\n",
              "      <td>88596.000000</td>\n",
              "      <td>88596.000000</td>\n",
              "      <td>88596.000000</td>\n",
              "      <td>88596.000000</td>\n",
              "      <td>88596.000000</td>\n",
              "      <td>88596.000000</td>\n",
              "      <td>88596.000000</td>\n",
              "      <td>88596.000000</td>\n",
              "      <td>88596.000000</td>\n",
              "      <td>88596.000000</td>\n",
              "      <td>2739.0</td>\n",
              "      <td>2739.000000</td>\n",
              "    </tr>\n",
              "    <tr>\n",
              "      <th>mean</th>\n",
              "      <td>8.537699</td>\n",
              "      <td>0.000666</td>\n",
              "      <td>2.074292</td>\n",
              "      <td>0.093514</td>\n",
              "      <td>11.028489</td>\n",
              "      <td>1.006885</td>\n",
              "      <td>0.265621</td>\n",
              "      <td>89.441713</td>\n",
              "      <td>20.379148</td>\n",
              "      <td>0.913427</td>\n",
              "      <td>-0.601145</td>\n",
              "      <td>29.244706</td>\n",
              "      <td>880.289686</td>\n",
              "      <td>0.458136</td>\n",
              "      <td>1.0</td>\n",
              "      <td>0.363271</td>\n",
              "    </tr>\n",
              "    <tr>\n",
              "      <th>std</th>\n",
              "      <td>1.315182</td>\n",
              "      <td>0.042358</td>\n",
              "      <td>0.407573</td>\n",
              "      <td>0.828265</td>\n",
              "      <td>11.716055</td>\n",
              "      <td>0.484698</td>\n",
              "      <td>0.936665</td>\n",
              "      <td>238.601500</td>\n",
              "      <td>11.551536</td>\n",
              "      <td>1.004926</td>\n",
              "      <td>0.758187</td>\n",
              "      <td>37.524081</td>\n",
              "      <td>648.251877</td>\n",
              "      <td>0.498247</td>\n",
              "      <td>0.0</td>\n",
              "      <td>0.481030</td>\n",
              "    </tr>\n",
              "    <tr>\n",
              "      <th>min</th>\n",
              "      <td>-1.000000</td>\n",
              "      <td>0.000000</td>\n",
              "      <td>0.000000</td>\n",
              "      <td>-1.000000</td>\n",
              "      <td>-1.000000</td>\n",
              "      <td>0.000000</td>\n",
              "      <td>-1.000000</td>\n",
              "      <td>-1.000000</td>\n",
              "      <td>0.000000</td>\n",
              "      <td>-1.000000</td>\n",
              "      <td>-1.000000</td>\n",
              "      <td>-1.000000</td>\n",
              "      <td>-1.000000</td>\n",
              "      <td>0.000000</td>\n",
              "      <td>1.0</td>\n",
              "      <td>0.000000</td>\n",
              "    </tr>\n",
              "    <tr>\n",
              "      <th>25%</th>\n",
              "      <td>8.000000</td>\n",
              "      <td>0.000000</td>\n",
              "      <td>2.000000</td>\n",
              "      <td>-1.000000</td>\n",
              "      <td>0.000000</td>\n",
              "      <td>1.000000</td>\n",
              "      <td>-1.000000</td>\n",
              "      <td>-1.000000</td>\n",
              "      <td>7.000000</td>\n",
              "      <td>0.000000</td>\n",
              "      <td>-1.000000</td>\n",
              "      <td>-1.000000</td>\n",
              "      <td>-1.000000</td>\n",
              "      <td>0.000000</td>\n",
              "      <td>1.0</td>\n",
              "      <td>0.000000</td>\n",
              "    </tr>\n",
              "    <tr>\n",
              "      <th>50%</th>\n",
              "      <td>9.000000</td>\n",
              "      <td>0.000000</td>\n",
              "      <td>2.000000</td>\n",
              "      <td>0.000000</td>\n",
              "      <td>5.000000</td>\n",
              "      <td>1.000000</td>\n",
              "      <td>1.000000</td>\n",
              "      <td>-1.000000</td>\n",
              "      <td>25.000000</td>\n",
              "      <td>0.000000</td>\n",
              "      <td>-1.000000</td>\n",
              "      <td>12.000000</td>\n",
              "      <td>999.000000</td>\n",
              "      <td>0.000000</td>\n",
              "      <td>1.0</td>\n",
              "      <td>0.000000</td>\n",
              "    </tr>\n",
              "    <tr>\n",
              "      <th>75%</th>\n",
              "      <td>10.000000</td>\n",
              "      <td>0.000000</td>\n",
              "      <td>2.000000</td>\n",
              "      <td>1.000000</td>\n",
              "      <td>24.000000</td>\n",
              "      <td>1.000000</td>\n",
              "      <td>1.000000</td>\n",
              "      <td>-1.000000</td>\n",
              "      <td>30.000000</td>\n",
              "      <td>2.000000</td>\n",
              "      <td>-1.000000</td>\n",
              "      <td>51.000000</td>\n",
              "      <td>1551.000000</td>\n",
              "      <td>1.000000</td>\n",
              "      <td>1.0</td>\n",
              "      <td>1.000000</td>\n",
              "    </tr>\n",
              "    <tr>\n",
              "      <th>max</th>\n",
              "      <td>10.000000</td>\n",
              "      <td>3.000000</td>\n",
              "      <td>3.000000</td>\n",
              "      <td>1.000000</td>\n",
              "      <td>30.000000</td>\n",
              "      <td>2.000000</td>\n",
              "      <td>1.000000</td>\n",
              "      <td>1115.000000</td>\n",
              "      <td>33.000000</td>\n",
              "      <td>2.000000</td>\n",
              "      <td>1.000000</td>\n",
              "      <td>130.000000</td>\n",
              "      <td>1585.000000</td>\n",
              "      <td>1.000000</td>\n",
              "      <td>1.0</td>\n",
              "      <td>1.000000</td>\n",
              "    </tr>\n",
              "  </tbody>\n",
              "</table>\n",
              "</div>"
            ],
            "text/plain": [
              "                 0             1             2             3             4   \\\n",
              "count  88596.000000  88596.000000  88596.000000  88596.000000  88596.000000   \n",
              "mean       8.537699      0.000666      2.074292      0.093514     11.028489   \n",
              "std        1.315182      0.042358      0.407573      0.828265     11.716055   \n",
              "min       -1.000000      0.000000      0.000000     -1.000000     -1.000000   \n",
              "25%        8.000000      0.000000      2.000000     -1.000000      0.000000   \n",
              "50%        9.000000      0.000000      2.000000      0.000000      5.000000   \n",
              "75%       10.000000      0.000000      2.000000      1.000000     24.000000   \n",
              "max       10.000000      3.000000      3.000000      1.000000     30.000000   \n",
              "\n",
              "                 5             6             7             8             9   \\\n",
              "count  88596.000000  88596.000000  88596.000000  88596.000000  88596.000000   \n",
              "mean       1.006885      0.265621     89.441713     20.379148      0.913427   \n",
              "std        0.484698      0.936665    238.601500     11.551536      1.004926   \n",
              "min        0.000000     -1.000000     -1.000000      0.000000     -1.000000   \n",
              "25%        1.000000     -1.000000     -1.000000      7.000000      0.000000   \n",
              "50%        1.000000      1.000000     -1.000000     25.000000      0.000000   \n",
              "75%        1.000000      1.000000     -1.000000     30.000000      2.000000   \n",
              "max        2.000000      1.000000   1115.000000     33.000000      2.000000   \n",
              "\n",
              "                 10            11            12            13      14  \\\n",
              "count  88596.000000  88596.000000  88596.000000  88596.000000  2739.0   \n",
              "mean      -0.601145     29.244706    880.289686      0.458136     1.0   \n",
              "std        0.758187     37.524081    648.251877      0.498247     0.0   \n",
              "min       -1.000000     -1.000000     -1.000000      0.000000     1.0   \n",
              "25%       -1.000000     -1.000000     -1.000000      0.000000     1.0   \n",
              "50%       -1.000000     12.000000    999.000000      0.000000     1.0   \n",
              "75%       -1.000000     51.000000   1551.000000      1.000000     1.0   \n",
              "max        1.000000    130.000000   1585.000000      1.000000     1.0   \n",
              "\n",
              "                15  \n",
              "count  2739.000000  \n",
              "mean      0.363271  \n",
              "std       0.481030  \n",
              "min       0.000000  \n",
              "25%       0.000000  \n",
              "50%       0.000000  \n",
              "75%       1.000000  \n",
              "max       1.000000  "
            ]
          },
          "metadata": {
            "tags": []
          },
          "execution_count": 62
        }
      ]
    },
    {
      "metadata": {
        "id": "GhR_OZA82d6d",
        "colab_type": "text"
      },
      "cell_type": "markdown",
      "source": [
        "# Anomaly Detection (AD)\n",
        "\n",
        "\n",
        "We use a Density-Based Anomaly Detection algorithm. This algorithm assumes that normal data points occur around a dense neighborhood and abnormalities are far away. It finds μ (mean) and σ (standard deviation) of each feature in the set. These μ (mean) and σ (standard deviation) is used to compute probability for each sample. These probabilities are collected for every sample in the dataset to find local outlier factor (LOF).\n",
        "\n",
        "Samples with probabilities lower than LOF are marked with fraud class.\n",
        "\n"
      ]
    },
    {
      "metadata": {
        "id": "YvEKBlFZ2tbg",
        "colab_type": "code",
        "colab": {
          "autoexec": {
            "startup": false,
            "wait_interval": 0
          },
          "base_uri": "https://localhost:8080/",
          "height": 72
        },
        "outputId": "e900d13a-eb54-493b-9b8f-a725f4ef8f9d",
        "executionInfo": {
          "status": "ok",
          "timestamp": 1528256280176,
          "user_tz": 420,
          "elapsed": 4682,
          "user": {
            "displayName": "Rohit Sharma",
            "photoUrl": "//lh3.googleusercontent.com/-taVv3-ZuJe4/AAAAAAAAAAI/AAAAAAAAAC4/S0CoIAIUYyc/s50-c-k-no/photo.jpg",
            "userId": "112749994528256872390"
          }
        }
      },
      "cell_type": "code",
      "source": [
        "def gauss_prob(x, mu, sigma):\n",
        "    root_2pi = np.sqrt(2*np.pi)\n",
        "    sz = len(x)\n",
        "    pf = [None]*sz\n",
        "    for i in range(sz):\n",
        "        pf[i] = np.exp(- (x[i]-mu[i])**2 / (2*sigma[i]**2) ) / (root_2pi*sigma[i])\n",
        "    return pf\n",
        "\n",
        "feature_sz    = dataset.shape[1]-2;\n",
        "feature_mu    = [None]*feature_sz;\n",
        "feature_sigma = [None]*feature_sz;\n",
        "for fi in range(feature_sz):\n",
        "    feature_mu[fi]    = np.mean(dataset[:,fi])\n",
        "    feature_sigma[fi] = np.std(dataset[:,fi])\n",
        "\n",
        "print(feature_mu)\n",
        "print(feature_sigma)\n",
        "\n",
        "dataset_sz   = dataset.shape[0]\n",
        "dataset_prob = np.empty([dataset_sz, feature_sz], dtype=float)\n",
        "fraud_prob   = []\n",
        "for i in range(dataset_sz):\n",
        "    dataset_prob[i] = gauss_prob(dataset[i][:feature_sz], feature_mu, feature_sigma)\n",
        "    #if ( dataset_prob[i] < 0.001 ):\n",
        "    fraud_prob.append(dataset_prob[i])\n",
        "\n",
        "lof_epsilon = np.std(fraud_prob)"
      ],
      "execution_count": 8,
      "outputs": [
        {
          "output_type": "stream",
          "text": [
            "[8.537699218926363, 0.0006659442864237663, 2.0742922931057834, 0.09351437988171024, 11.028488870829383, 1.006885186690144, 0.2656214727527202, 89.44171294415098, 20.37914804280103, 0.9134272427649104, -0.6011445211973453, 29.244706307282495, 880.2896857645943, 0.4581358074856653]\n",
            "[1.315174517189251, 0.04235823336923947, 0.40757046755339243, 0.8282605547507695, 11.715988743205315, 0.4846951027090882, 0.9366601683653427, 238.6001532674641, 11.551471222513547, 1.0049203241635198, 0.7581829242501918, 37.523868841663734, 648.2482189367904, 0.498244306926956]\n"
          ],
          "name": "stdout"
        }
      ]
    },
    {
      "metadata": {
        "id": "g5hDUUQqxI3s",
        "colab_type": "code",
        "colab": {
          "autoexec": {
            "startup": false,
            "wait_interval": 0
          },
          "base_uri": "https://localhost:8080/",
          "height": 90
        },
        "outputId": "65de5ad7-bf0a-4966-f767-0579039e9cac",
        "executionInfo": {
          "status": "ok",
          "timestamp": 1528256280885,
          "user_tz": 420,
          "elapsed": 680,
          "user": {
            "displayName": "Rohit Sharma",
            "photoUrl": "//lh3.googleusercontent.com/-taVv3-ZuJe4/AAAAAAAAAAI/AAAAAAAAAC4/S0CoIAIUYyc/s50-c-k-no/photo.jpg",
            "userId": "112749994528256872390"
          }
        }
      },
      "cell_type": "code",
      "source": [
        "print(feature_mu)\n",
        "print(feature_sigma)\n",
        "print(lof_epsilon)\n"
      ],
      "execution_count": 9,
      "outputs": [
        {
          "output_type": "stream",
          "text": [
            "[8.537699218926363, 0.0006659442864237663, 2.0742922931057834, 0.09351437988171024, 11.028488870829383, 1.006885186690144, 0.2656214727527202, 89.44171294415098, 20.37914804280103, 0.9134272427649104, -0.6011445211973453, 29.244706307282495, 880.2896857645943, 0.4581358074856653]\n",
            "[1.315174517189251, 0.04235823336923947, 0.40757046755339243, 0.8282605547507695, 11.715988743205315, 0.4846951027090882, 0.9366601683653427, 238.6001532674641, 11.551471222513547, 1.0049203241635198, 0.7581829242501918, 37.523868841663734, 648.2482189367904, 0.498244306926956]\n",
            "2.3733111156925584\n"
          ],
          "name": "stdout"
        }
      ]
    },
    {
      "metadata": {
        "id": "23TmICG03EQw",
        "colab_type": "code",
        "colab": {
          "autoexec": {
            "startup": false,
            "wait_interval": 0
          },
          "base_uri": "https://localhost:8080/",
          "height": 105
        },
        "outputId": "e2f4d643-71a1-4005-b355-a40c882be3c2",
        "executionInfo": {
          "status": "ok",
          "timestamp": 1528256282271,
          "user_tz": 420,
          "elapsed": 1291,
          "user": {
            "displayName": "Rohit Sharma",
            "photoUrl": "//lh3.googleusercontent.com/-taVv3-ZuJe4/AAAAAAAAAAI/AAAAAAAAAC4/S0CoIAIUYyc/s50-c-k-no/photo.jpg",
            "userId": "112749994528256872390"
          }
        }
      },
      "cell_type": "code",
      "source": [
        "\n",
        "print(dataset_prob.shape)\n",
        "print(np.mean(dataset_prob))\n",
        "print(np.std(dataset_prob))\n",
        "print(np.min(dataset_prob))\n",
        "print(np.max(dataset_prob))"
      ],
      "execution_count": 10,
      "outputs": [
        {
          "output_type": "stream",
          "text": [
            "(88596, 14)\n",
            "0.9196544358430491\n",
            "2.3733111156925584\n",
            "0.0\n",
            "9.417129751237507\n"
          ],
          "name": "stdout"
        }
      ]
    },
    {
      "metadata": {
        "id": "sJHdFcflBCuR",
        "colab_type": "code",
        "colab": {
          "autoexec": {
            "startup": false,
            "wait_interval": 0
          },
          "base_uri": "https://localhost:8080/",
          "height": 558
        },
        "outputId": "4bf46616-6db9-4f39-daee-1efe4ee8fd69",
        "executionInfo": {
          "status": "ok",
          "timestamp": 1528257013714,
          "user_tz": 420,
          "elapsed": 3337,
          "user": {
            "displayName": "Rohit Sharma",
            "photoUrl": "//lh3.googleusercontent.com/-taVv3-ZuJe4/AAAAAAAAAAI/AAAAAAAAAC4/S0CoIAIUYyc/s50-c-k-no/photo.jpg",
            "userId": "112749994528256872390"
          }
        }
      },
      "cell_type": "code",
      "source": [
        "# print('LOF ϵ  :', lof_epsilon)\n",
        "# print('Dataset: ', np.mean(dataset_prob), np.std(dataset_prob))\n",
        "# print('Fraud  : ', np.mean(fraud_prob), np.std(fraud_prob))\n",
        "\n",
        "sess = tf.Session()\n",
        "# Initialize the variables (i.e. assign their default value)\n",
        "init = tf.global_variables_initializer()\n",
        "sess.run(init)\n",
        "\n",
        "fraud_prediction = np.zeros((dataset_sz),dtype=int)\n",
        "for s in range(dataset_sz):\n",
        "  cumulative_feature_distance = 0.0\n",
        "  for fi in range(feature_sz):\n",
        "    pct_distance   = feature_mu[fi] - 2.6*feature_sigma[fi]\n",
        "    sample_distance = feature_mu[fi] - dataset_prob[s][fi]\n",
        "    if ( sample_distance > pct_distance ):\n",
        "      cumulative_feature_distance += (sample_distance-pct_distance)/feature_sigma[fi]\n",
        "  if ( cumulative_feature_distance > 27.1):\n",
        "    fraud_prediction[s] = 1\n",
        "\n",
        "# Compare accuracy of label vs preduction\n",
        "labelled_fraud  = []\n",
        "predicted_fraud = []\n",
        "ifraud = dataset.shape[1] -2\n",
        "for s in range(dataset_sz):\n",
        "  if (  dataset[s, ifraud] == 0.0 or dataset[s, ifraud] == 1.0 ):\n",
        "    labelled_fraud.append(dataset[s, ifraud])\n",
        "    predicted_fraud.append(fraud_prediction[s])\n",
        "\n",
        "\n",
        "labelled_fraud  = np.array(labelled_fraud)\n",
        "predicted_fraud = np.array(predicted_fraud)\n",
        "\n",
        "print(\"##############################################################\")\n",
        "print(\"Fraud prediction accuracy =\", 100*(predicted_fraud==1.0).sum()/(labelled_fraud==1.0).sum())\n",
        "print(\"Overall Fraud predictions =\", (fraud_prediction==1.0).sum())\n",
        "print(\"##############################################################\")\n",
        "#print(adcm_ary)\n",
        "\n",
        "adcm = tf.confusion_matrix(dataset[:,ifraud]==1.0, fraud_prediction, num_classes=2)\n",
        "adcm_ary = adcm.eval(session=sess)\n",
        "\n",
        "# Plot confusion matrix\n",
        "df_adcm = pd.DataFrame(adcm_ary, index = [i for i in ['GENUINE', 'FRAUD']], columns = [i for i in ['AD GENUINE', 'AD FRAUD']])\n",
        "plt.figure(figsize = (8,8))\n",
        "sn.heatmap(df_adcm, cmap=\"Blues\", annot=True, fmt='d', annot_kws={\"size\": 14})# font size\n",
        "sn.set(font_scale=1.6)#for label size\n",
        "plt.show()"
      ],
      "execution_count": 56,
      "outputs": [
        {
          "output_type": "stream",
          "text": [
            "##############################################################\n",
            "Fraud prediction accuracy = 79.84665936473165\n",
            "Overall Fraud predictions = 55889\n",
            "##############################################################\n"
          ],
          "name": "stdout"
        },
        {
          "output_type": "display_data",
          "data": {
            "image/png": "[encoded data removed]",
            "text/plain": [
              "<matplotlib.figure.Figure at 0x7f4d04868828>"
            ]
          },
          "metadata": {
            "tags": []
          }
        }
      ]
    },
    {
      "metadata": {
        "id": "zKG2zRpXC3NO",
        "colab_type": "code",
        "colab": {
          "autoexec": {
            "startup": false,
            "wait_interval": 0
          },
          "base_uri": "https://localhost:8080/",
          "height": 629
        },
        "outputId": "13ae78dd-49e4-4a51-c3c0-9bbeda0ee05d",
        "executionInfo": {
          "status": "ok",
          "timestamp": 1528257674058,
          "user_tz": 420,
          "elapsed": 2826,
          "user": {
            "displayName": "Rohit Sharma",
            "photoUrl": "//lh3.googleusercontent.com/-taVv3-ZuJe4/AAAAAAAAAAI/AAAAAAAAAC4/S0CoIAIUYyc/s50-c-k-no/photo.jpg",
            "userId": "112749994528256872390"
          }
        }
      },
      "cell_type": "code",
      "source": [
        "chargeback_prediction = np.zeros((dataset_sz),dtype=int)\n",
        "for s in range(dataset_sz):\n",
        "  cumulative_feature_distance = 0.0\n",
        "  for fi in range(feature_sz):\n",
        "    pct_distance   = feature_mu[fi] - 2.6*feature_sigma[fi]\n",
        "    sample_distance = feature_mu[fi] - dataset_prob[s][fi]\n",
        "    if ( sample_distance > pct_distance ):\n",
        "      cumulative_feature_distance += (sample_distance-pct_distance)/feature_sigma[fi]\n",
        "  if ( cumulative_feature_distance > 27.1):\n",
        "    chargeback_prediction[s] = 1\n",
        "\n",
        "    \n",
        "# Compare accuracy of labelled vs preduction\n",
        "labelled_chargeback  = []\n",
        "predicted_chargeback = []\n",
        "icb = dataset.shape[1] -1\n",
        "for s in range(dataset_sz):\n",
        "  if (  dataset[s, icb] == 0.0 or dataset[s, icb] == 1.0 ):\n",
        "    labelled_chargeback.append(dataset[s, icb])\n",
        "    predicted_chargeback.append(chargeback_prediction[s])\n",
        "\n",
        "\n",
        "labelled_chargeback  = np.array(labelled_chargeback)\n",
        "predicted_chargeback = np.array(predicted_chargeback)\n",
        "\n",
        "\n",
        "\n",
        "print(\"Overall False chargebacks            =\", (labelled_chargeback==0.0).sum())\n",
        "print(\"Overall True  chargebacks            =\", (labelled_chargeback==1.0).sum())\n",
        "print(\"Correct True  chargeback predictions =\", (((predicted_chargeback==1.0)&(labelled_chargeback==1.0))==True).sum())\n",
        "\n",
        "print(\"##############################################################\")\n",
        "print(\"Overall (True+False) Chargeback prediction accuracy =\", \n",
        "      100*((predicted_chargeback==labelled_chargeback)==True).sum() / labelled_chargeback.shape[0] )\n",
        "print(\"True chargeback prediction accuracy                 =\", \n",
        "      100*(((predicted_chargeback==1.0)&(labelled_chargeback==1.0))==True).sum() / (labelled_chargeback==1.0).sum() )\n",
        "print(\"False chargeback prediction accuracy                =\", \n",
        "      100*(((predicted_chargeback==0.0)&(labelled_chargeback==1.0))==True).sum() / (labelled_chargeback==1.0).sum() )\n",
        "print(\"##############################################################\")\n",
        "\n",
        "adcm = tf.confusion_matrix(dataset[:,icb]==1.0, chargeback_prediction, num_classes=2)\n",
        "\n",
        "# Initialize the variables (i.e. assign their default value)\n",
        "init = tf.global_variables_initializer()\n",
        "adcm_ary = adcm.eval(session=sess)\n",
        "\n",
        "# Plot confusion matrix\n",
        "df_adcm = pd.DataFrame(adcm_ary, index = [i for i in ['GENUINE', 'CHARGEBACK']],\n",
        "                       columns = [i for i in ['AD GENUINE', 'AD CHARGEBACK']])\n",
        "plt.figure(figsize = (8,8))\n",
        "sn.heatmap(df_adcm, cmap=\"Blues\", annot=True, fmt='d', annot_kws={\"size\": 14})# font size\n",
        "sn.set(font_scale=1.6)#for label size\n",
        "plt.show()"
      ],
      "execution_count": 59,
      "outputs": [
        {
          "output_type": "stream",
          "text": [
            "Overall False chargebacks            = 1744\n",
            "Overall True  chargebacks            = 995\n",
            "Correct True  chargeback predictions = 780\n",
            "##############################################################\n",
            "Overall (True+False) Chargeback prediction accuracy = 40.78130704636729\n",
            "True chargeback prediction accuracy                 = 78.39195979899498\n",
            "False chargeback prediction accuracy                = 21.608040201005025\n",
            "##############################################################\n"
          ],
          "name": "stdout"
        },
        {
          "output_type": "display_data",
          "data": {
            "image/png": "[encoded data removed]",
            "text/plain": [
              "<matplotlib.figure.Figure at 0x7f4d047d8128>"
            ]
          },
          "metadata": {
            "tags": []
          }
        }
      ]
    }
  ]
}